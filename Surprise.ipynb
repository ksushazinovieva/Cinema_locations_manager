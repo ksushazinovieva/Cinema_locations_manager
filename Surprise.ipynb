{
 "cells": [
  {
   "cell_type": "markdown",
   "metadata": {},
   "source": [
    "# Библиотека Surprise\n",
    "\n",
    "Сокращение от Simple Python RecommendatIon System Engine.\n",
    "\n",
    "Это библиотека для создания простых рекомендательных систем на языке Python. Поддерживает несколько алгоритмов с рекомендациями. Алгоритмы построены на том факте, что пользователи, выбравшие одинаковые объекты, в будущем будут вести себя одинаково.  С помощью рекомендательной системы можно рекомендовать похожие объекты похожим людям. "
   ]
  },
  {
   "cell_type": "markdown",
   "metadata": {},
   "source": [
    "## Установка библиотеки"
   ]
  },
  {
   "cell_type": "markdown",
   "metadata": {},
   "source": [
    "Для использования данной библиотеки, необходима установка numpy"
   ]
  },
  {
   "cell_type": "code",
   "execution_count": null,
   "metadata": {},
   "outputs": [],
   "source": [
    "pip install numpy\n",
    "pip install scikit-surprise"
   ]
  },
  {
   "cell_type": "markdown",
   "metadata": {},
   "source": [
    "Или из файла Python:"
   ]
  },
  {
   "cell_type": "code",
   "execution_count": null,
   "metadata": {},
   "outputs": [],
   "source": [
    "import pip\n",
    "pip.main(['install', 'scikit-surprise'])"
   ]
  },
  {
   "cell_type": "markdown",
   "metadata": {},
   "source": [
    "Далее приведем описание алгоритмов, которые поддерживаются:\n",
    "\n",
    "1) random_pred.NormalPredictor - Случайно дает прогнозируемое значение в соответствии с характеристиками распределения обучающего набора\n",
    "\n",
    "2) baseline_only.BaselineOnly - Учитывая пользователя и предмет, дать оценку на основе базовой линии\n",
    "\n",
    "3) knns.KNNBasic - Базовая совместная фильтрация\n",
    "\n",
    "4) knns.KNNWithMeans - Внедрение совместной фильтрации с учетом среднего значения рейтинга каждого пользователя\n",
    "\n",
    "5) knns.KNNBaseline - Совместная фильтрация с учетом базовых рейтингов\n",
    "\n",
    "6) matrix_factorization.SVD - алгоритм SVD\n",
    "\n",
    "7) matrix_factorization.NMF - Совместная фильтрация на основе матричной декомпозиции\n",
    "\n",
    "8) co_clustering.CoClustering - Алгоритм совместной фильтрации, основанный на совместной кластеризации\n",
    "\n",
    "9) slope_one.SlopeOne - Еще один алгоритм совместной фильтрации\n",
    "\n",
    "---\n",
    "\n",
    "Все методы совместной фильтрации поддерживают разные метрики:\n",
    "\n",
    "cosine - косинусное сходство между всеми парами пользователей\n",
    "\n",
    "msd - среднеквадратичная разница между всеми парами пользователями\n",
    "\n",
    "pearson - коэффициент корреляции Пирсона между всеми парами пользователей\n",
    "\n",
    "---\n",
    "\n",
    "И различные критерии оценивания: \n",
    "\n",
    "rmse - среднеквадратическая ошибка\n",
    "\n",
    "mae - средняя абсолютная ошибка\n",
    "\n",
    "fcp - оценка координационных пар"
   ]
  },
  {
   "cell_type": "markdown",
   "metadata": {},
   "source": [
    "## Пример использования\n"
   ]
  },
  {
   "cell_type": "markdown",
   "metadata": {},
   "source": [
    "Пример использования и документацию можно найти на ресурсе https://surprise.readthedocs.io/en/stable/getting_started.html.\n"
   ]
  }
 ],
 "metadata": {
  "kernelspec": {
   "display_name": "Python 3",
   "language": "python",
   "name": "python3"
  },
  "language_info": {
   "codemirror_mode": {
    "name": "ipython",
    "version": 3
   },
   "file_extension": ".py",
   "mimetype": "text/x-python",
   "name": "python",
   "nbconvert_exporter": "python",
   "pygments_lexer": "ipython3",
   "version": "3.7.6"
  }
 },
 "nbformat": 4,
 "nbformat_minor": 4
}
